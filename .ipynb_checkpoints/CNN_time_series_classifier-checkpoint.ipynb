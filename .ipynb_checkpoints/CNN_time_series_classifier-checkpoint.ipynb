{
 "cells": [
  {
   "cell_type": "markdown",
   "metadata": {},
   "source": [
    "#### CNN Классификатор временных рядов на Pytorch"
   ]
  },
  {
   "cell_type": "code",
   "execution_count": 1,
   "metadata": {},
   "outputs": [],
   "source": [
    "import numpy as np \n",
    "\n",
    "import torch\n",
    "from torch import nn\n",
    "from torch.utils.data import Dataset, DataLoader\n",
    "from torch.utils.tensorboard import SummaryWriter\n",
    "from torchvision import datasets, transforms, utils\n",
    "\n",
    "from sklearn.metrics import confusion_matrix, classification_report, roc_curve, auc\n",
    "import matplotlib.pyplot as plt"
   ]
  },
  {
   "cell_type": "markdown",
   "metadata": {},
   "source": [
    "### Создание датасета"
   ]
  },
  {
   "cell_type": "code",
   "execution_count": 2,
   "metadata": {},
   "outputs": [],
   "source": [
    "# Создание класса Dataset для загрузки из папки \n",
    "class TimeSeriesFolder(datasets.DatasetFolder):\n",
    "    def __getitem__(self, index):\n",
    "        \"\"\"\n",
    "        Args:\n",
    "            index (int): Index\n",
    "\n",
    "        Returns:\n",
    "            tuple: (sample, target) where target is class_index of the target class.\n",
    "        \"\"\"\n",
    "        path, target = self.samples[index]\n",
    "        sample = self.loader(path)\n",
    "        if self.transform is not None:\n",
    "            sample = self.transform(sample)\n",
    "        return sample, target"
   ]
  },
  {
   "cell_type": "code",
   "execution_count": 3,
   "metadata": {},
   "outputs": [],
   "source": [
    "# загрузчик .npy файлов \n",
    "def npy_loader(path):\n",
    "    # поскольку содержится несколько рядов с размерностью (1,3564)\n",
    "    data = np.load(path)[0:3653]\n",
    "    # Нормализация Min Max Scaling \n",
    "    normalized = (data - np.amin(data)) / (np.amax(data) - np.amin(data))\n",
    "    sample = torch.from_numpy(normalized) \n",
    "    return sample"
   ]
  },
  {
   "cell_type": "code",
   "execution_count": 4,
   "metadata": {},
   "outputs": [],
   "source": [
    "# в качестве аугментации - добавление шума\n",
    "transformation  = transforms.Compose([transforms.Lambda(lambda x: x + (torch.rand(x.shape)/3).double())])\n",
    "\n",
    "dataset_train = TimeSeriesFolder(root='dataset/train/', loader=npy_loader, transform=transformation, extensions='.npy')\n",
    "dataset_val = TimeSeriesFolder(root='dataset/val/', loader=npy_loader, extensions='.npy')"
   ]
  },
  {
   "cell_type": "code",
   "execution_count": 5,
   "metadata": {},
   "outputs": [],
   "source": [
    "# функция для подготовки есовых коэффициентов для WeightedRandomSampler\n",
    "def make_weights_for_balanced_classes(examples, nclasses):                        \n",
    "    count = [0] * nclasses\n",
    "    \n",
    "    for item in examples:                                                         \n",
    "        count[item[1]] += 1\n",
    "    weight_per_class = [0.] * nclasses                                      \n",
    "    n = float(sum(count))\n",
    "    \n",
    "    for i in range(nclasses):                                                   \n",
    "        weight_per_class[i] = n/float(count[i])  \n",
    "    weight = [0] * len(examples)\n",
    "    \n",
    "    for idx, val in enumerate(examples):                                          \n",
    "        weight[idx] = weight_per_class[val[1]]\n",
    "        \n",
    "    return weight"
   ]
  },
  {
   "cell_type": "code",
   "execution_count": 6,
   "metadata": {},
   "outputs": [
    {
     "name": "stdout",
     "output_type": "stream",
     "text": [
      "Тренировочная выборка: Dataset TimeSeriesFolder\n",
      "    Number of datapoints: 1531\n",
      "    Root location: dataset/train/ \n",
      "\n",
      "Валидационная выборка: Dataset TimeSeriesFolder\n",
      "    Number of datapoints: 525\n",
      "    Root location: dataset/val/ \n",
      "\n"
     ]
    }
   ],
   "source": [
    "print('Тренировочная выборка:', dataset_train, '\\n')\n",
    "print('Валидационная выборка:', dataset_val, '\\n')"
   ]
  },
  {
   "cell_type": "markdown",
   "metadata": {},
   "source": [
    "Как было установлено ранее (в другом ноутбуке) классы в данном наборе не сбалансированы,  \n",
    "поэтому воспользуемся **_WeightedRandomSampler_** для балансировки классов в пределах одного батча во время обучения.  \n",
    "В совокупности с аугментациями это, в некоторой степени, позволит компенсировать  нехватку экземпляров одного из классов."
   ]
  },
  {
   "cell_type": "code",
   "execution_count": 7,
   "metadata": {},
   "outputs": [],
   "source": [
    "# Веса для балансировки тренировочного набора данных\n",
    "weights_train = make_weights_for_balanced_classes(dataset_train.samples, len(dataset_train.classes))\n",
    "# weights_train = torch.DoubleTensor(weights_train)\n",
    "sampler_train = torch.utils.data.sampler.WeightedRandomSampler(weights_train, len(weights_train))\n",
    "\n",
    "# Веса для балансировки валидационного набора данных\n",
    "weights_val = make_weights_for_balanced_classes(dataset_val.samples, len(dataset_val.classes))\n",
    "# weights_val = torch.DoubleTensor(weights_val)\n",
    "sampler_val = torch.utils.data.sampler.WeightedRandomSampler(weights_val, len(weights_val))"
   ]
  },
  {
   "cell_type": "code",
   "execution_count": 8,
   "metadata": {},
   "outputs": [],
   "source": [
    "batch_size_train = 10\n",
    "batch_size_val = 525\n",
    "\n",
    "train_loader = DataLoader(dataset_train, batch_size=batch_size_train, sampler=sampler_train)\n",
    "val_loader = DataLoader(dataset_val, batch_size=batch_size_val, sampler=sampler_val)"
   ]
  },
  {
   "cell_type": "code",
   "execution_count": 9,
   "metadata": {},
   "outputs": [],
   "source": [
    "# for i, batch in enumerate(train_loader):\n",
    "# #     x = batch[0][0].std\n",
    "# #     print(x)transforms.Normalize(sample.mean(), sample.std()) \n",
    "#     print(i, batch )"
   ]
  },
  {
   "cell_type": "markdown",
   "metadata": {},
   "source": [
    "### CNN Классификатор временных рядов"
   ]
  },
  {
   "cell_type": "code",
   "execution_count": 10,
   "metadata": {},
   "outputs": [],
   "source": [
    "class CNN_classifier(nn.Module):\n",
    "    def __init__(self):\n",
    "        super().__init__()\n",
    "        \n",
    "        self.layer1 = nn.Sequential(nn.Conv1d(1, 64, kernel_size=6),\n",
    "                                    nn.ReLU(True),\n",
    "                                    nn.MaxPool1d(kernel_size=6, stride=2))\n",
    "        \n",
    "        self.layer2 = nn.Sequential(nn.Conv1d(64, 32, kernel_size=6),\n",
    "                                    nn.ReLU(True),\n",
    "                                    nn.MaxPool1d(kernel_size=6, stride=2))\n",
    "        \n",
    "        # Расчет входных признакоd по формуле Lout=((Lin+2*pading - dilation*(kernel - 1) - 1)/stride) + 1\n",
    "        self.classifier = nn.Sequential(nn.Linear(in_features=906*32, out_features=512, bias=True),\n",
    "                                        nn.ReLU(True),\n",
    "                                        nn.Dropout(),\n",
    "                                        nn.Linear(in_features=512, out_features=512, bias=True),\n",
    "                                        nn.ReLU(True),\n",
    "                                        nn.Dropout(),\n",
    "                                        nn.Linear(512, 2))\n",
    "    def forward(self, x):\n",
    "        out = self.layer1(x) \n",
    "        out = self.layer2(out) \n",
    "        out = out.reshape(out.size(0), -1) \n",
    "        out = self.classifier(out) \n",
    "        return out\n",
    "        \n",
    "model = CNN_classifier()\n",
    "model = model.float()"
   ]
  },
  {
   "cell_type": "markdown",
   "metadata": {},
   "source": [
    "### Обуение модели "
   ]
  },
  {
   "cell_type": "code",
   "execution_count": 11,
   "metadata": {},
   "outputs": [],
   "source": [
    "# Параметры обучения\n",
    "num_epochs = 3\n",
    "num_classes = 2\n",
    "learning_rate = 0.001\n",
    "\n",
    "criterion = nn.CrossEntropyLoss()\n",
    "optimizer = torch.optim.Adam(model.parameters(), lr=learning_rate)\n",
    "\n",
    "total_step = len(dataset_train)\n",
    "loss_list = []\n",
    "acc_list = []\n",
    "\n",
    "# Прикрутим tensorboard  ./runs/ directory by default\n",
    "writer = SummaryWriter()"
   ]
  },
  {
   "cell_type": "code",
   "execution_count": 12,
   "metadata": {},
   "outputs": [
    {
     "name": "stdout",
     "output_type": "stream",
     "text": [
      "Epoch [1/3], Step [500/1531], Loss: 0.0657, Accuracy: 100.00%\n",
      "Epoch [1/3], Step [1000/1531], Loss: 0.2617, Accuracy: 90.00%\n",
      "Epoch [1/3], Step [1500/1531], Loss: 0.0025, Accuracy: 100.00%\n",
      "Epoch [2/3], Step [500/1531], Loss: 0.3707, Accuracy: 80.00%\n",
      "Epoch [2/3], Step [1000/1531], Loss: 0.1807, Accuracy: 90.00%\n",
      "Epoch [2/3], Step [1500/1531], Loss: 0.0015, Accuracy: 100.00%\n",
      "Epoch [3/3], Step [500/1531], Loss: 0.0204, Accuracy: 100.00%\n",
      "Epoch [3/3], Step [1000/1531], Loss: 0.0041, Accuracy: 100.00%\n",
      "Epoch [3/3], Step [1500/1531], Loss: 0.0002, Accuracy: 100.00%\n",
      "----------------Модель обучена!-------------------- \n"
     ]
    }
   ],
   "source": [
    "# итерация для tensorboard\n",
    "tf_iter = 0 \n",
    "\n",
    "# Цикл обучения \n",
    "for epoch in range(num_epochs):\n",
    "    for i, (series, labels) in enumerate(train_loader):\n",
    "        series = series[:,None,:]\n",
    "        \n",
    "        #Прямой запуск\n",
    "        outputs = model(series.float())\n",
    "        loss = criterion(outputs, labels)\n",
    "        loss_list.append(loss.item())\n",
    "\n",
    "        # Обратное распространение и оптимизатор\n",
    "        optimizer.zero_grad()\n",
    "        loss.backward()\n",
    "        optimizer.step()\n",
    "\n",
    "        # Отслеживание точности\n",
    "        total = labels.size(0)\n",
    "        _, predicted = torch.max(outputs.data, 1)\n",
    "        correct = (predicted == labels).sum().item()\n",
    "        acc_list.append(correct / total)\n",
    "        accuracy = (correct / total) * 100\n",
    "        \n",
    "        # Запись в tesorboard\n",
    "        writer.add_scalar('Accuracy/train',  accuracy,  tf_iter)\n",
    "        writer.add_scalar('Loss/train',  loss.item(),  tf_iter)\n",
    "        tf_iter += 1\n",
    "        \n",
    "        if (i + 1) % 50 == 0:\n",
    "            print('Epoch [{}/{}], Step [{}/{}], Loss: {:.4f}, Accuracy: {:.2f}%'\n",
    "                  .format(epoch + 1, num_epochs, (i + 1)*batch_size_train,\n",
    "                  total_step, loss.item(),\n",
    "                  accuracy))\n",
    "    \n",
    "print(\"----------------Модель обучена!-------------------- \")"
   ]
  },
  {
   "cell_type": "markdown",
   "metadata": {},
   "source": [
    "### Валидация"
   ]
  },
  {
   "cell_type": "code",
   "execution_count": 13,
   "metadata": {},
   "outputs": [
    {
     "name": "stdout",
     "output_type": "stream",
     "text": [
      "Accuracy на валидационной выборке: 92.38 \n"
     ]
    }
   ],
   "source": [
    "# Валидация модели \n",
    "actuals_0_class, actuals_1_class = [], []\n",
    "probabilities_0_class, probabilities_1_class  = [], []\n",
    "probabilities_0_class_list, probabilities_1_class_list,   = [], []\n",
    "\n",
    "model.eval()\n",
    "with torch.no_grad():\n",
    "    correct = 0\n",
    "    total = 0\n",
    "    for series, labels in val_loader:\n",
    "        series = series[:,None,:]\n",
    "        outputs = model(series.float())\n",
    "        _, predicted = torch.max(outputs.data, 1)\n",
    "        total += labels.size(0)\n",
    "        correct += (predicted == labels).sum().item()\n",
    "        \n",
    "        actuals_0_class.extend(labels.view_as(predicted) == 0) \n",
    "        actuals_1_class.extend(labels.view_as(predicted) == 1)\n",
    "        \n",
    "        # Вероятность для классов\n",
    "        probabilities_0_class.extend(np.exp(outputs[:, 0]))\n",
    "        probabilities_1_class.extend(np.exp(outputs[:, 1]))\n",
    "        \n",
    "        actuals_0_class_list = [i.item() for i in actuals_0_class]\n",
    "        actuals_1_class_list = [i.item() for i in actuals_1_class]\n",
    "        \n",
    "        probabilities_0_class_list = [i.item() for i in probabilities_0_class]\n",
    "        probabilities_1_class_list = [i.item() for i in probabilities_1_class]\n",
    "        \n",
    "        # Запись в tensorboard\n",
    "        writer.add_scalar('Accuracy/validation',  (correct / total) * 100)\n",
    "        \n",
    "    print('Accuracy на валидационной выборке: {:.2f} '.format((correct / total) * 100))\n",
    "\n",
    "# ROC кривая \n",
    "fpr_0, tpr_0, _0 = roc_curve(actuals_0_class_list, probabilities_0_class_list)\n",
    "fpr_1, tpr_1, _1 = roc_curve(actuals_1_class_list, probabilities_1_class_list)\n",
    "\n",
    "# Рассчет AUC  \n",
    "roc_auc_0 = auc(fpr_0, tpr_0)\n",
    "roc_auc_1 = auc(fpr_1, tpr_1)"
   ]
  },
  {
   "cell_type": "code",
   "execution_count": 14,
   "metadata": {},
   "outputs": [],
   "source": [
    "# Построение confusion matrix\n",
    "cnf_matrix = confusion_matrix(labels, predicted)"
   ]
  },
  {
   "cell_type": "code",
   "execution_count": 15,
   "metadata": {},
   "outputs": [
    {
     "name": "stdout",
     "output_type": "stream",
     "text": [
      "Confusion_matrix: \n",
      " [[207  34]\n",
      " [  6 278]]\n"
     ]
    }
   ],
   "source": [
    "print('Confusion_matrix: \\n', cnf_matrix)"
   ]
  },
  {
   "cell_type": "code",
   "execution_count": 16,
   "metadata": {},
   "outputs": [
    {
     "name": "stdout",
     "output_type": "stream",
     "text": [
      "Метрики полученные на валидационной выборке: \n",
      "               precision    recall  f1-score   support\n",
      "\n",
      " First class       0.97      0.86      0.91       241\n",
      "Second class       0.89      0.98      0.93       284\n",
      "\n",
      "    accuracy                           0.92       525\n",
      "   macro avg       0.93      0.92      0.92       525\n",
      "weighted avg       0.93      0.92      0.92       525\n",
      "\n"
     ]
    }
   ],
   "source": [
    "report = classification_report(labels, predicted, target_names=['First class', 'Second class'])\n",
    "print('Метрики полученные на валидационной выборке: \\n', report)"
   ]
  },
  {
   "cell_type": "code",
   "execution_count": 17,
   "metadata": {},
   "outputs": [
    {
     "data": {
      "text/plain": [
       "[<matplotlib.lines.Line2D at 0x24787804b70>]"
      ]
     },
     "execution_count": 17,
     "metadata": {},
     "output_type": "execute_result"
    },
    {
     "data": {
      "image/png": "[encoded data removed]",
      "text/plain": [
       "<Figure size 1080x504 with 2 Axes>"
      ]
     },
     "metadata": {
      "needs_background": "light"
     },
     "output_type": "display_data"
    }
   ],
   "source": [
    "# Строим графики ROC кривых\n",
    "fig, axes = plt.subplots(1,2, figsize=(15,7))\n",
    "lw = 2\n",
    "\n",
    "axes[0].set_title('First class ROC curve', fontsize=20)\n",
    "axes[0].set_xlim([0.0, 1.0])\n",
    "axes[0].set_ylim([0.0, 1.05])\n",
    "axes[0].set_xlabel('ROC AUC = %0.4f' % roc_auc_0, fontdict={'size': 16})\n",
    "axes[0].plot(fpr_0, tpr_0, color='darkorange', lw=lw)\n",
    "axes[0].plot([0, 1], [0, 1], color='navy', lw=lw, linestyle='--')\n",
    "\n",
    "\n",
    "axes[1].set_title('Second class ROC curve', fontsize=20)\n",
    "axes[1].set_xlim([0.0, 1.0])\n",
    "axes[1].set_ylim([0.0, 1.05])\n",
    "axes[1].set_xlabel('ROC AUC = %0.4f' % roc_auc_1, fontdict={'size': 16})\n",
    "axes[1].plot(fpr_1, tpr_1,  color='darkorange', lw=lw)\n",
    "axes[1].plot([0, 1], [0, 1], color='navy', lw=lw, linestyle='--')"
   ]
  },
  {
   "cell_type": "markdown",
   "metadata": {},
   "source": [
    "### Сохраняем модель"
   ]
  },
  {
   "cell_type": "code",
   "execution_count": 18,
   "metadata": {},
   "outputs": [],
   "source": [
    "MODEL_STORE_PATH = \"saved_model/\"\n",
    "torch.save(model.state_dict(), MODEL_STORE_PATH + 'time_series_CNN_binary_classifier.ckpt')"
   ]
  }
 ],
 "metadata": {
  "kernelspec": {
   "display_name": "Python 3",
   "language": "python",
   "name": "python3"
  },
  "language_info": {
   "codemirror_mode": {
    "name": "ipython",
    "version": 3
   },
   "file_extension": ".py",
   "mimetype": "text/x-python",
   "name": "python",
   "nbconvert_exporter": "python",
   "pygments_lexer": "ipython3",
   "version": "3.6.8"
  }
 },
 "nbformat": 4,
 "nbformat_minor": 2
}
