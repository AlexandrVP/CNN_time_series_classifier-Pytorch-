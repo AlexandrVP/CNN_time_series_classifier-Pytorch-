{
 "cells": [
  {
   "cell_type": "code",
   "execution_count": null,
   "metadata": {},
   "outputs": [],
   "source": [
    "import math\n",
    "import numpy as np \n",
    "import matplotlib as mpl\n",
    "import matplotlib.pyplot as plt\n",
    "import pandas as pd\n",
    "import os\n",
    "import glob\n",
    "from random import randint"
   ]
  },
  {
   "cell_type": "markdown",
   "metadata": {},
   "source": [
    "#### Посмотрим на датасет"
   ]
  },
  {
   "cell_type": "code",
   "execution_count": null,
   "metadata": {},
   "outputs": [],
   "source": [
    "# Получим список файлов в директориях \n",
    "np_files_0_train = glob.glob(\"dataset/train/0/*.npy\")\n",
    "np_files_0_val = glob.glob(\"dataset/val/0/*.npy\")\n",
    "np_files_1_train = glob.glob(\"dataset/train/1/*.npy\")\n",
    "np_files_1_val = glob.glob(\"dataset/val/1/*.npy\")\n",
    "\n",
    "# Сортировка \n",
    "np_files_0_train.sort()\n",
    "np_files_0_val.sort()\n",
    "np_files_1_train.sort()\n",
    "np_files_1_val.sort()\n",
    "\n",
    "# Инициализация пустых DataFram'ов\n",
    "df_0_train = pd.DataFrame()\n",
    "df_0_val = pd.DataFrame()\n",
    "df_1_train = pd.DataFrame()\n",
    "df_1_val = pd.DataFrame()\n",
    "\n",
    "# Для вспомогательных нужд\n",
    "len_0_train = []\n",
    "len_0_val = []\n",
    "len_1_train = []\n",
    "len_1_val = []\n",
    "\n",
    "# Запись в DataFrame и оценка размерности (длины ряда)\n",
    "for i, npfile in enumerate(np_files_0_train):\n",
    "    load_data = np.load(npfile)\n",
    "    len_0_train.append(len(load_data))\n",
    "    df_0_train[i] = pd.Series(load_data[0:3653])\n",
    "print(\"Length of time series in train 0 class: Max=\", max(len_0_train), \"Min=\", min(len_0_train))\n",
    "\n",
    "\n",
    "for i, npfile in enumerate(np_files_0_val):\n",
    "    load_data = np.load(npfile)\n",
    "    len_0_val.append(len(load_data))\n",
    "    df_0_val[i] = pd.Series(load_data[0:3653])\n",
    "print(\"Length of time series in val 0 class:   Max=\", max(len_0_val), \"Min=\", min(len_0_val))\n",
    "\n",
    "for i, npfile in enumerate(np_files_1_train):\n",
    "    load_data = np.load(npfile)\n",
    "    len_1_train.append(len(load_data))\n",
    "    df_1_train[i] = pd.Series(load_data[0:3653])\n",
    "print(\"Length of time series in train 1 class: Max=\", max(len_1_train),\"Min=\", min(len_1_train))\n",
    "\n",
    "for i, npfile in enumerate(np_files_1_val):\n",
    "    load_data = np.load(npfile)\n",
    "    len_1_val.append(len(load_data))\n",
    "    df_1_val[i] = pd.Series(load_data[0:3653])\n",
    "print(\"Length of time series in val 1 class:   Max=\", max(len_1_val), \"Min=\", min(len_1_val), \"\\n\")"
   ]
  },
  {
   "cell_type": "markdown",
   "metadata": {},
   "source": [
    "В некоторых данных есть ряды длиннее на один временной интервал, можно использовать паддинг (np.pad), а можно просто стандартизировать ряды сделав все фиксированной длины.  \n",
    "Поскольку ряды достаточно \"длинные\" и различаются всего на один интервал, обрежу лишнее до 3653-х временных интервалов."
   ]
  },
  {
   "cell_type": "code",
   "execution_count": null,
   "metadata": {},
   "outputs": [],
   "source": [
    "len(df_0_train.columns)"
   ]
  },
  {
   "cell_type": "code",
   "execution_count": null,
   "metadata": {},
   "outputs": [],
   "source": [
    "len(df_1_train.columns)"
   ]
  },
  {
   "cell_type": "markdown",
   "metadata": {},
   "source": [
    "#### Классы не сбалансированы, придется наводить баланс вручную.  "
   ]
  },
  {
   "cell_type": "markdown",
   "metadata": {},
   "source": [
    "### Посмотрим на классы и попытаемся найти отличия между ними"
   ]
  },
  {
   "cell_type": "markdown",
   "metadata": {},
   "source": [
    "### Тренировочный набор данных "
   ]
  },
  {
   "cell_type": "code",
   "execution_count": null,
   "metadata": {},
   "outputs": [],
   "source": [
    "# Строим графики\n",
    "fig, axes = plt.subplots(nrows=3, ncols=2)\n",
    "\n",
    "axes[0,0].set_title('First class train', fontsize=20)\n",
    "df_0_train.plot(ax=axes[0,0], y=randint(0, df_0_train.shape[1]), color='green', figsize=(25,10))\n",
    "df_0_train.plot(ax=axes[1,0], y=randint(0, df_0_train.shape[1]), color='green', figsize=(25,10))\n",
    "df_0_train.plot(ax=axes[2,0], y=randint(0, df_0_train.shape[1]), color='green', figsize=(25,10))\n",
    "\n",
    "axes[0,1].set_title('Second class train', fontsize=20)\n",
    "df_1_train.plot(ax=axes[0,1], y=randint(0, df_1_train.shape[1]), color='blue', figsize=(25,10))\n",
    "df_1_train.plot(ax=axes[1,1], y=randint(0, df_1_train.shape[1]), color='blue', figsize=(25,10))\n",
    "df_1_train.plot(ax=axes[2,1], y=randint(0, df_1_train.shape[1]), color='blue', figsize=(25,10))"
   ]
  },
  {
   "cell_type": "markdown",
   "metadata": {},
   "source": [
    "### Тестовый набор данных"
   ]
  },
  {
   "cell_type": "code",
   "execution_count": null,
   "metadata": {},
   "outputs": [],
   "source": [
    "# Строим графики\n",
    "fig, axes = plt.subplots(nrows=3, ncols=2)\n",
    "\n",
    "axes[0,0].set_title('First class train', fontsize=20)\n",
    "# test = pd.Series(np.load('dataset/val/0/1aa955bd-f962-445f-a207-a1451991d2cd.npy')[0:3653])\n",
    "# test.plot(ax=axes[0,0], y=randint(0,  test.shape[0]), color='green', figsize=(25,10))\n",
    "df_0_val.plot(ax=axes[0,0], y=randint(0, df_0_val.shape[1]), color='green', figsize=(25,10))\n",
    "df_0_val.plot(ax=axes[1,0], y=randint(0, df_0_val.shape[1]), color='green', figsize=(25,10))\n",
    "df_0_val.plot(ax=axes[2,0], y=randint(0, df_0_val.shape[1]), color='green', figsize=(25,10))\n",
    "\n",
    "axes[0,1].set_title('Second class train', fontsize=20)\n",
    "df_1_val.plot(ax=axes[0,1], y=randint(0, df_1_val.shape[1]), color='blue', figsize=(25,10))\n",
    "df_1_val.plot(ax=axes[1,1], y=randint(0, df_1_val.shape[1]), color='blue', figsize=(25,10))\n",
    "df_1_val.plot(ax=axes[2,1], y=randint(0, df_1_val.shape[1]), color='blue', figsize=(25,10))"
   ]
  },
  {
   "cell_type": "markdown",
   "metadata": {},
   "source": [
    "#### Как видно из графиков данные классы хорошо различимы.\n",
    "#### Первый - некий периодический процесс, второй - вначе мне казался похож на некую функцию затухания или отклика системы,  \n",
    "#### но он возрастает, а это не характерно для таких функций как отклик. \n",
    "#### К тому же это может оказаться вообще не физическим процессом, а чем-то иным."
   ]
  }
 ],
 "metadata": {
  "kernelspec": {
   "display_name": "Python 3",
   "language": "python",
   "name": "python3"
  },
  "language_info": {
   "codemirror_mode": {
    "name": "ipython",
    "version": 3
   },
   "file_extension": ".py",
   "mimetype": "text/x-python",
   "name": "python",
   "nbconvert_exporter": "python",
   "pygments_lexer": "ipython3",
   "version": "3.6.8"
  }
 },
 "nbformat": 4,
 "nbformat_minor": 2
}
